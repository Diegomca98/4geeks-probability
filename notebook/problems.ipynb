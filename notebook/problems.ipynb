{
 "cells": [
  {
   "cell_type": "markdown",
   "id": "a41f3622",
   "metadata": {},
   "source": [
    "# Probability exercises"
   ]
  },
  {
   "cell_type": "markdown",
   "id": "a6bdbd89",
   "metadata": {},
   "source": [
    "## Exercise 1 \n",
    "\n",
    "Two dices are thrown once and the total score is observed. Use a simulation to find the estimated probability that the total score is even or greater than 7.  A simulation is a repetition of the same experiment multiple times to observe its behavior:\n",
    "\n",
    "- Run the experiment 1000 times (roll 2 dice 1000 times, and sum the number of both dices).\n",
    "- Keep track of the number of times that the sum was either greater than 7 or an even number.\n",
    "- Divide the number from step 2 by the number of iterations (1000)."
   ]
  },
  {
   "cell_type": "code",
   "execution_count": 2,
   "id": "407406f3-2fb4-402b-91bf-d3476a4238ef",
   "metadata": {},
   "outputs": [],
   "source": [
    "import numpy as np\n",
    "import pandas as pd"
   ]
  },
  {
   "cell_type": "code",
   "execution_count": 3,
   "id": "8939d892",
   "metadata": {},
   "outputs": [
    {
     "name": "stdout",
     "output_type": "stream",
     "text": [
      "Número de tiradas que son mayores a 7 o par: 657, probabilidad de que se cumpla la unión 0.657\n"
     ]
    }
   ],
   "source": [
    "# TODO\n",
    "sumas = 0\n",
    "for i in range(1000):\n",
    "    tirada = np.random.randint(1,7) + np.random.randint(1,7)\n",
    "    if tirada > 7 or tirada % 2 == 0:\n",
    "        sumas += 1\n",
    "    else:\n",
    "        continue\n",
    "print(f'Número de tiradas que son mayores a 7 o par: {sumas}, probabilidad de que se cumpla la unión {sumas/1000}')"
   ]
  },
  {
   "cell_type": "markdown",
   "id": "55732bca",
   "metadata": {},
   "source": [
    "## Exercise 2\n",
    "\n",
    "A box contains 10 white balls, 20 red balls and 30 green balls. If we take 5 balls from the box with replacement (we take the ball, observe what color it is and put it back into the box). We want to know the probability of:\n",
    "\n",
    "1. Take 3 white and 2 red.\n",
    "2. All are the same color.\n",
    "\n",
    "Run the experiment 1000 times and calculate the above probabilities."
   ]
  },
  {
   "cell_type": "code",
   "execution_count": 19,
   "id": "23244d20",
   "metadata": {},
   "outputs": [
    {
     "name": "stdout",
     "output_type": "stream",
     "text": [
      "Probability: 0.004\n"
     ]
    }
   ],
   "source": [
    "ball_box = {}\n",
    "\n",
    "# Create the box of balls\n",
    "for i in range(60):\n",
    "    if i < 10:\n",
    "        ball_box[i] = \"White\"\n",
    "    elif (i > 9) and (i < 30):\n",
    "        ball_box[i] = \"Red\"\n",
    "    else:\n",
    "        ball_box[i] = \"Green\"\n",
    "\n",
    "# TODO\n",
    "picks = []\n",
    "condition = 0\n",
    "\n",
    "for i in range(1000):\n",
    "    picks = np.random.randint(0, 60, size=5)\n",
    "    count_white = np.sum(picks < 10)\n",
    "    \n",
    "    count_red = np.sum((picks >= 10) & (picks <30))\n",
    "    \n",
    "    count_green = np.sum(picks >= 30)\n",
    "    #print(picks, '\\t', count_white, count_red, count_green)\n",
    "    if (count_white == 5) or (count_red == 5) or (count_red == 5):\n",
    "        condition += 1\n",
    "    if count_white == 3 and count_red == 2:\n",
    "        condition += 1\n",
    "\n",
    "print('Probability:', condition/1000)"
   ]
  },
  {
   "cell_type": "code",
   "execution_count": null,
   "id": "89e5888f-73aa-41bf-bd1b-fc8400a7c1d5",
   "metadata": {},
   "outputs": [],
   "source": []
  }
 ],
 "metadata": {
  "interpreter": {
   "hash": "9248718ffe6ce6938b217e69dbcc175ea21f4c6b28a317e96c05334edae734bb"
  },
  "kernelspec": {
   "display_name": "Python 3 (ipykernel)",
   "language": "python",
   "name": "python3"
  },
  "language_info": {
   "codemirror_mode": {
    "name": "ipython",
    "version": 3
   },
   "file_extension": ".py",
   "mimetype": "text/x-python",
   "name": "python",
   "nbconvert_exporter": "python",
   "pygments_lexer": "ipython3",
   "version": "3.11.5"
  }
 },
 "nbformat": 4,
 "nbformat_minor": 5
}
